{
 "cells": [
  {
   "cell_type": "markdown",
   "metadata": {},
   "source": [
    "# Scraping project - version 1.01\n",
    "    "
   ]
  },
  {
   "cell_type": "code",
   "execution_count": 1105,
   "metadata": {
    "collapsed": true
   },
   "outputs": [],
   "source": [
    "# Importing libraries\n",
    "\n",
    "import requests                     # For requesting urls\n",
    "from bs4 import BeautifulSoup       # Parsing and handling html files\n",
    "import pandas as pd                 # Structured data frames\n",
    "import numpy as np                  # Support to data frames and used on exceptions np.nan\n",
    "import matplotlib.pyplot as plt     # Visualizations library\n",
    "from collections import OrderedDict # Preserving column order on dictionaries for data frames\n",
    "%matplotlib inline                  # Visualizing without plt.show()"
   ]
  },
  {
   "cell_type": "code",
   "execution_count": 1078,
   "metadata": {},
   "outputs": [
    {
     "data": {
      "text/plain": [
       "Index(['Company', 'CustomerService', 'EaseOfUse', 'Features',\n       'Features&Functionalities', 'FreeTrial', 'OverallRating', 'ProductID',\n       'ProductName', 'StartPrice', 'Support', 'TargetCustomerSize',\n       'Training', 'ValueForMoney', 'WhoUses_Description'],\n      dtype='object')"
      ]
     },
     "execution_count": 1078,
     "metadata": {},
     "output_type": "execute_result"
    }
   ],
   "source": [
    "# Format of DataFrame that will be created\n",
    "# Initially built to give me an idea of required attributes \n",
    "\n",
    "df = {'ProductID':[],\n",
    "      'ProductName':[],\n",
    "      'Company':[],\n",
    "      'WhoUses_Description': [],\n",
    "      'TargetCustomerSize' : [],\n",
    "      'StartPrice' : [],\n",
    "      'FreeTrial' : [],\n",
    "      'Features' : [],\n",
    "      'OverallRating':[],\n",
    "      'EaseOfUse':[],\n",
    "      'CustomerService':[],\n",
    "      'Features&Functionalities':[],\n",
    "      'ValueForMoney':[],\n",
    "      'Support':[],\n",
    "      'Training':[]}\n",
    "\n",
    "df = pd.DataFrame.from_dict(df)"
   ]
  },
  {
   "cell_type": "code",
   "execution_count": 639,
   "metadata": {
    "collapsed": false
   },
   "outputs": [],
   "source": [
    "# Requesting the front page of Capterra website\n",
    "\n",
    "url_frontpage = 'https://www.capterra.com/real-estate-property-management-software/'\n",
    "r = requests.get(url_frontpage)\n",
    "html_doc = r.text\n",
    "r.close()\n",
    "soup = BeautifulSoup(html_doc, \"html.parser\")"
   ]
  },
  {
   "cell_type": "code",
   "execution_count": 643,
   "metadata": {
    "collapsed": false
   },
   "outputs": [
    {
     "name": "stdout",
     "output_type": "stream",
     "text": [
      "Total amount of products listed on url_frontpage requested is 208\n"
     ]
    }
   ],
   "source": [
    "# Grabs a list with each item on url listing: all_items\n",
    "# all_items is the base for the loop on the main code\n",
    "# Prints the amount of entries to be scraped\n",
    "\n",
    "all_items = soup.findAll(\"div\", {'class':'card listing'})\n",
    "print(\"Total amount of products listed on url_frontpage requested is %d\" % len(all_items))"
   ]
  },
  {
   "cell_type": "code",
   "execution_count": 1054,
   "metadata": {
    "collapsed": true
   },
   "outputs": [
    {
     "name": "stdout",
     "output_type": "stream",
     "text": [
      "product-167973 product-165852\nhttps://www.capterra.com/real-estate-property-management-software/compare/167973-165852\n"
     ]
    },
    {
     "name": "stdout",
     "output_type": "stream",
     "text": [
      "product-38478 product-133029\nhttps://www.capterra.com/real-estate-property-management-software/compare/38478-133029\n"
     ]
    },
    {
     "name": "stdout",
     "output_type": "stream",
     "text": [
      "product-147392 product-33832\nhttps://www.capterra.com/real-estate-property-management-software/compare/147392-33832\n"
     ]
    },
    {
     "name": "stdout",
     "output_type": "stream",
     "text": [
      "product-135182 product-128184\nhttps://www.capterra.com/real-estate-property-management-software/compare/135182-128184\n"
     ]
    },
    {
     "name": "stdout",
     "output_type": "stream",
     "text": [
      "product-14544 product-164775\nhttps://www.capterra.com/real-estate-property-management-software/compare/14544-164775\n"
     ]
    },
    {
     "name": "stdout",
     "output_type": "stream",
     "text": [
      "product-123688 product-20091\nhttps://www.capterra.com/real-estate-property-management-software/compare/123688-20091\n"
     ]
    },
    {
     "name": "stdout",
     "output_type": "stream",
     "text": [
      "product-143505 product-147659\nhttps://www.capterra.com/real-estate-property-management-software/compare/143505-147659\n"
     ]
    },
    {
     "name": "stdout",
     "output_type": "stream",
     "text": [
      "product-20372 product-154399\nhttps://www.capterra.com/real-estate-property-management-software/compare/20372-154399\n"
     ]
    },
    {
     "name": "stdout",
     "output_type": "stream",
     "text": [
      "product-122933 product-151481\nhttps://www.capterra.com/real-estate-property-management-software/compare/122933-151481\n"
     ]
    },
    {
     "name": "stdout",
     "output_type": "stream",
     "text": [
      "product-169422 product-165617\nhttps://www.capterra.com/real-estate-property-management-software/compare/169422-165617\n"
     ]
    },
    {
     "name": "stdout",
     "output_type": "stream",
     "text": [
      "product-137909 product-129088\nhttps://www.capterra.com/real-estate-property-management-software/compare/137909-129088\n"
     ]
    },
    {
     "name": "stdout",
     "output_type": "stream",
     "text": [
      "product-128379 product-146322\nhttps://www.capterra.com/real-estate-property-management-software/compare/128379-146322\n"
     ]
    },
    {
     "name": "stdout",
     "output_type": "stream",
     "text": [
      "product-148438 product-141252\nhttps://www.capterra.com/real-estate-property-management-software/compare/148438-141252\n"
     ]
    },
    {
     "name": "stdout",
     "output_type": "stream",
     "text": [
      "product-37330 product-135049\nhttps://www.capterra.com/real-estate-property-management-software/compare/37330-135049\n"
     ]
    },
    {
     "name": "stdout",
     "output_type": "stream",
     "text": [
      "product-145035 product-14444\nhttps://www.capterra.com/real-estate-property-management-software/compare/145035-14444\n"
     ]
    },
    {
     "name": "stdout",
     "output_type": "stream",
     "text": [
      "product-158989 product-74391\nhttps://www.capterra.com/real-estate-property-management-software/compare/158989-74391\n"
     ]
    },
    {
     "name": "stdout",
     "output_type": "stream",
     "text": [
      "product-141454 product-105814\nhttps://www.capterra.com/real-estate-property-management-software/compare/141454-105814\n"
     ]
    },
    {
     "name": "stdout",
     "output_type": "stream",
     "text": [
      "product-145260 product-154986\nhttps://www.capterra.com/real-estate-property-management-software/compare/145260-154986\n"
     ]
    },
    {
     "name": "stdout",
     "output_type": "stream",
     "text": [
      "product-122572 product-158997\nhttps://www.capterra.com/real-estate-property-management-software/compare/122572-158997\n"
     ]
    },
    {
     "name": "stdout",
     "output_type": "stream",
     "text": [
      "product-141471 product-151217\nhttps://www.capterra.com/real-estate-property-management-software/compare/141471-151217\n"
     ]
    },
    {
     "name": "stdout",
     "output_type": "stream",
     "text": [
      "product-2743 product-63354\nhttps://www.capterra.com/real-estate-property-management-software/compare/2743-63354\n"
     ]
    },
    {
     "name": "stdout",
     "output_type": "stream",
     "text": [
      "product-139748 product-37290\nhttps://www.capterra.com/real-estate-property-management-software/compare/139748-37290\n"
     ]
    },
    {
     "name": "stdout",
     "output_type": "stream",
     "text": [
      "product-127303 product-122090\nhttps://www.capterra.com/real-estate-property-management-software/compare/127303-122090\n"
     ]
    },
    {
     "name": "stdout",
     "output_type": "stream",
     "text": [
      "product-143325 product-141095\nhttps://www.capterra.com/real-estate-property-management-software/compare/143325-141095\n"
     ]
    },
    {
     "name": "stdout",
     "output_type": "stream",
     "text": [
      "product-77333 product-129773\nhttps://www.capterra.com/real-estate-property-management-software/compare/77333-129773\n"
     ]
    },
    {
     "name": "stdout",
     "output_type": "stream",
     "text": [
      "product-70753 product-127313\nhttps://www.capterra.com/real-estate-property-management-software/compare/70753-127313\n"
     ]
    },
    {
     "name": "stdout",
     "output_type": "stream",
     "text": [
      "product-157665 product-120661\nhttps://www.capterra.com/real-estate-property-management-software/compare/157665-120661\n"
     ]
    },
    {
     "name": "stdout",
     "output_type": "stream",
     "text": [
      "product-157176 product-145595\nhttps://www.capterra.com/real-estate-property-management-software/compare/157176-145595\n"
     ]
    },
    {
     "name": "stdout",
     "output_type": "stream",
     "text": [
      "product-161175 product-127320\nhttps://www.capterra.com/real-estate-property-management-software/compare/161175-127320\n"
     ]
    },
    {
     "name": "stdout",
     "output_type": "stream",
     "text": [
      "product-133963 product-140971\nhttps://www.capterra.com/real-estate-property-management-software/compare/133963-140971\n"
     ]
    },
    {
     "name": "stdout",
     "output_type": "stream",
     "text": [
      "product-147729 product-92718\nhttps://www.capterra.com/real-estate-property-management-software/compare/147729-92718\n"
     ]
    },
    {
     "name": "stdout",
     "output_type": "stream",
     "text": [
      "product-143307 product-164648\nhttps://www.capterra.com/real-estate-property-management-software/compare/143307-164648\n"
     ]
    },
    {
     "name": "stdout",
     "output_type": "stream",
     "text": [
      "product-40752 product-128400\nhttps://www.capterra.com/real-estate-property-management-software/compare/40752-128400\n"
     ]
    },
    {
     "name": "stdout",
     "output_type": "stream",
     "text": [
      "product-56379 product-132747\nhttps://www.capterra.com/real-estate-property-management-software/compare/56379-132747\n"
     ]
    },
    {
     "name": "stdout",
     "output_type": "stream",
     "text": [
      "product-126062 product-152900\nhttps://www.capterra.com/real-estate-property-management-software/compare/126062-152900\n"
     ]
    },
    {
     "name": "stdout",
     "output_type": "stream",
     "text": [
      "product-147468 product-164376\nhttps://www.capterra.com/real-estate-property-management-software/compare/147468-164376\n"
     ]
    },
    {
     "name": "stdout",
     "output_type": "stream",
     "text": [
      "product-140891 product-79829\nhttps://www.capterra.com/real-estate-property-management-software/compare/140891-79829\n"
     ]
    },
    {
     "name": "stdout",
     "output_type": "stream",
     "text": [
      "product-152837 product-163600\nhttps://www.capterra.com/real-estate-property-management-software/compare/152837-163600\n"
     ]
    },
    {
     "name": "stdout",
     "output_type": "stream",
     "text": [
      "product-38468 product-104325\nhttps://www.capterra.com/real-estate-property-management-software/compare/38468-104325\n"
     ]
    },
    {
     "name": "stdout",
     "output_type": "stream",
     "text": [
      "product-57648 product-131565\nhttps://www.capterra.com/real-estate-property-management-software/compare/57648-131565\n"
     ]
    },
    {
     "name": "stdout",
     "output_type": "stream",
     "text": [
      "product-40734 product-92250\nhttps://www.capterra.com/real-estate-property-management-software/compare/40734-92250\n"
     ]
    },
    {
     "name": "stdout",
     "output_type": "stream",
     "text": [
      "product-53496 product-75253\nhttps://www.capterra.com/real-estate-property-management-software/compare/53496-75253\n"
     ]
    },
    {
     "name": "stdout",
     "output_type": "stream",
     "text": [
      "product-150707 product-155158\nhttps://www.capterra.com/real-estate-property-management-software/compare/150707-155158\n"
     ]
    },
    {
     "name": "stdout",
     "output_type": "stream",
     "text": [
      "product-168870 product-34357\nhttps://www.capterra.com/real-estate-property-management-software/compare/168870-34357\n"
     ]
    },
    {
     "name": "stdout",
     "output_type": "stream",
     "text": [
      "product-84069 product-164557\nhttps://www.capterra.com/real-estate-property-management-software/compare/84069-164557\n"
     ]
    },
    {
     "name": "stdout",
     "output_type": "stream",
     "text": [
      "product-127316 product-83355\nhttps://www.capterra.com/real-estate-property-management-software/compare/127316-83355\n"
     ]
    },
    {
     "name": "stdout",
     "output_type": "stream",
     "text": [
      "product-150573 product-127314\nhttps://www.capterra.com/real-estate-property-management-software/compare/150573-127314\n"
     ]
    },
    {
     "name": "stdout",
     "output_type": "stream",
     "text": [
      "product-127305 product-141263\nhttps://www.capterra.com/real-estate-property-management-software/compare/127305-141263\n"
     ]
    },
    {
     "name": "stdout",
     "output_type": "stream",
     "text": [
      "product-82248 product-159450\nhttps://www.capterra.com/real-estate-property-management-software/compare/82248-159450\n"
     ]
    },
    {
     "name": "stdout",
     "output_type": "stream",
     "text": [
      "product-115473 product-163305\nhttps://www.capterra.com/real-estate-property-management-software/compare/115473-163305\n"
     ]
    },
    {
     "name": "stdout",
     "output_type": "stream",
     "text": [
      "product-165872 product-167201\nhttps://www.capterra.com/real-estate-property-management-software/compare/165872-167201\n"
     ]
    },
    {
     "name": "stdout",
     "output_type": "stream",
     "text": [
      "product-130132 product-143031\nhttps://www.capterra.com/real-estate-property-management-software/compare/130132-143031\n"
     ]
    },
    {
     "name": "stdout",
     "output_type": "stream",
     "text": [
      "product-153699 product-171876\nhttps://www.capterra.com/real-estate-property-management-software/compare/153699-171876\n"
     ]
    },
    {
     "name": "stdout",
     "output_type": "stream",
     "text": [
      "product-122449 product-118570\nhttps://www.capterra.com/real-estate-property-management-software/compare/122449-118570\n"
     ]
    },
    {
     "name": "stdout",
     "output_type": "stream",
     "text": [
      "product-160380 product-40754\nhttps://www.capterra.com/real-estate-property-management-software/compare/160380-40754\n"
     ]
    },
    {
     "name": "stdout",
     "output_type": "stream",
     "text": [
      "product-74868 product-112948\nhttps://www.capterra.com/real-estate-property-management-software/compare/74868-112948\n"
     ]
    },
    {
     "name": "stdout",
     "output_type": "stream",
     "text": [
      "product-146266 product-37213\nhttps://www.capterra.com/real-estate-property-management-software/compare/146266-37213\n"
     ]
    },
    {
     "name": "stdout",
     "output_type": "stream",
     "text": [
      "product-2742 product-130561\nhttps://www.capterra.com/real-estate-property-management-software/compare/2742-130561\n"
     ]
    },
    {
     "name": "stdout",
     "output_type": "stream",
     "text": [
      "product-38477 product-139231\nhttps://www.capterra.com/real-estate-property-management-software/compare/38477-139231\n"
     ]
    },
    {
     "name": "stdout",
     "output_type": "stream",
     "text": [
      "product-127318 product-17835\nhttps://www.capterra.com/real-estate-property-management-software/compare/127318-17835\n"
     ]
    },
    {
     "name": "stdout",
     "output_type": "stream",
     "text": [
      "product-87310 product-153765\nhttps://www.capterra.com/real-estate-property-management-software/compare/87310-153765\n"
     ]
    },
    {
     "name": "stdout",
     "output_type": "stream",
     "text": [
      "product-161244 product-28671\nhttps://www.capterra.com/real-estate-property-management-software/compare/161244-28671\n"
     ]
    },
    {
     "name": "stdout",
     "output_type": "stream",
     "text": [
      "product-132097 product-56376\nhttps://www.capterra.com/real-estate-property-management-software/compare/132097-56376\n"
     ]
    },
    {
     "name": "stdout",
     "output_type": "stream",
     "text": [
      "product-86391 product-171545\nhttps://www.capterra.com/real-estate-property-management-software/compare/86391-171545\n"
     ]
    },
    {
     "name": "stdout",
     "output_type": "stream",
     "text": [
      "product-40076 product-163877\nhttps://www.capterra.com/real-estate-property-management-software/compare/40076-163877\n"
     ]
    },
    {
     "name": "stdout",
     "output_type": "stream",
     "text": [
      "product-162498 product-127310\nhttps://www.capterra.com/real-estate-property-management-software/compare/162498-127310\n"
     ]
    },
    {
     "name": "stdout",
     "output_type": "stream",
     "text": [
      "product-38308 product-156139\nhttps://www.capterra.com/real-estate-property-management-software/compare/38308-156139\n"
     ]
    },
    {
     "name": "stdout",
     "output_type": "stream",
     "text": [
      "product-69269 product-142672\nhttps://www.capterra.com/real-estate-property-management-software/compare/69269-142672\n"
     ]
    },
    {
     "name": "stdout",
     "output_type": "stream",
     "text": [
      "product-40738 product-38481\nhttps://www.capterra.com/real-estate-property-management-software/compare/40738-38481\n"
     ]
    },
    {
     "name": "stdout",
     "output_type": "stream",
     "text": [
      "product-37271 product-2738\nhttps://www.capterra.com/real-estate-property-management-software/compare/37271-2738\n"
     ]
    },
    {
     "name": "stdout",
     "output_type": "stream",
     "text": [
      "product-162061 product-80954\nhttps://www.capterra.com/real-estate-property-management-software/compare/162061-80954\n"
     ]
    },
    {
     "name": "stdout",
     "output_type": "stream",
     "text": [
      "product-114509 product-70410\nhttps://www.capterra.com/real-estate-property-management-software/compare/114509-70410\n"
     ]
    },
    {
     "name": "stdout",
     "output_type": "stream",
     "text": [
      "product-111010 product-20153\nhttps://www.capterra.com/real-estate-property-management-software/compare/111010-20153\n"
     ]
    },
    {
     "name": "stdout",
     "output_type": "stream",
     "text": [
      "product-166353 product-2728\nhttps://www.capterra.com/real-estate-property-management-software/compare/166353-2728\n"
     ]
    },
    {
     "name": "stdout",
     "output_type": "stream",
     "text": [
      "product-148534 product-127311\nhttps://www.capterra.com/real-estate-property-management-software/compare/148534-127311\n"
     ]
    },
    {
     "name": "stdout",
     "output_type": "stream",
     "text": [
      "product-2730 product-165357\nhttps://www.capterra.com/real-estate-property-management-software/compare/2730-165357\n"
     ]
    },
    {
     "name": "stdout",
     "output_type": "stream",
     "text": [
      "product-37289 product-128384\nhttps://www.capterra.com/real-estate-property-management-software/compare/37289-128384\n"
     ]
    },
    {
     "name": "stdout",
     "output_type": "stream",
     "text": [
      "product-127307 product-68035\nhttps://www.capterra.com/real-estate-property-management-software/compare/127307-68035\n"
     ]
    },
    {
     "name": "stdout",
     "output_type": "stream",
     "text": [
      "product-156513 product-155865\nhttps://www.capterra.com/real-estate-property-management-software/compare/156513-155865\n"
     ]
    },
    {
     "name": "stdout",
     "output_type": "stream",
     "text": [
      "product-78873 product-144051\nhttps://www.capterra.com/real-estate-property-management-software/compare/78873-144051\n"
     ]
    },
    {
     "name": "stdout",
     "output_type": "stream",
     "text": [
      "product-131561 product-135926\nhttps://www.capterra.com/real-estate-property-management-software/compare/131561-135926\n"
     ]
    },
    {
     "name": "stdout",
     "output_type": "stream",
     "text": [
      "product-167135 product-2737\nhttps://www.capterra.com/real-estate-property-management-software/compare/167135-2737\n"
     ]
    },
    {
     "name": "stdout",
     "output_type": "stream",
     "text": [
      "product-161246 product-127301\nhttps://www.capterra.com/real-estate-property-management-software/compare/161246-127301\n"
     ]
    },
    {
     "name": "stdout",
     "output_type": "stream",
     "text": [
      "product-38895 product-127302\nhttps://www.capterra.com/real-estate-property-management-software/compare/38895-127302\n"
     ]
    },
    {
     "name": "stdout",
     "output_type": "stream",
     "text": [
      "product-40313 product-32711\nhttps://www.capterra.com/real-estate-property-management-software/compare/40313-32711\n"
     ]
    },
    {
     "name": "stdout",
     "output_type": "stream",
     "text": [
      "product-37355 product-127312\nhttps://www.capterra.com/real-estate-property-management-software/compare/37355-127312\n"
     ]
    },
    {
     "name": "stdout",
     "output_type": "stream",
     "text": [
      "product-29109 product-23131\nhttps://www.capterra.com/real-estate-property-management-software/compare/29109-23131\n"
     ]
    },
    {
     "name": "stdout",
     "output_type": "stream",
     "text": [
      "product-91490 product-37288\nhttps://www.capterra.com/real-estate-property-management-software/compare/91490-37288\n"
     ]
    },
    {
     "name": "stdout",
     "output_type": "stream",
     "text": [
      "product-69331 product-155098\nhttps://www.capterra.com/real-estate-property-management-software/compare/69331-155098\n"
     ]
    },
    {
     "name": "stdout",
     "output_type": "stream",
     "text": [
      "product-37351 product-77462\nhttps://www.capterra.com/real-estate-property-management-software/compare/37351-77462\n"
     ]
    },
    {
     "name": "stdout",
     "output_type": "stream",
     "text": [
      "product-167513 product-146807\nhttps://www.capterra.com/real-estate-property-management-software/compare/167513-146807\n"
     ]
    },
    {
     "name": "stdout",
     "output_type": "stream",
     "text": [
      "product-48109 product-162574\nhttps://www.capterra.com/real-estate-property-management-software/compare/48109-162574\n"
     ]
    },
    {
     "name": "stdout",
     "output_type": "stream",
     "text": [
      "product-170202 product-133677\nhttps://www.capterra.com/real-estate-property-management-software/compare/170202-133677\n"
     ]
    },
    {
     "name": "stdout",
     "output_type": "stream",
     "text": [
      "product-56328 product-164670\nhttps://www.capterra.com/real-estate-property-management-software/compare/56328-164670\n"
     ]
    },
    {
     "name": "stdout",
     "output_type": "stream",
     "text": [
      "product-159606 product-84959\nhttps://www.capterra.com/real-estate-property-management-software/compare/159606-84959\n"
     ]
    },
    {
     "name": "stdout",
     "output_type": "stream",
     "text": [
      "product-160864 product-151177\nhttps://www.capterra.com/real-estate-property-management-software/compare/160864-151177\n"
     ]
    },
    {
     "name": "stdout",
     "output_type": "stream",
     "text": [
      "product-126018 product-15143\nhttps://www.capterra.com/real-estate-property-management-software/compare/126018-15143\n"
     ]
    },
    {
     "name": "stdout",
     "output_type": "stream",
     "text": [
      "product-148964 product-75481\nhttps://www.capterra.com/real-estate-property-management-software/compare/148964-75481\n"
     ]
    },
    {
     "name": "stdout",
     "output_type": "stream",
     "text": [
      "product-85096 product-142986\nhttps://www.capterra.com/real-estate-property-management-software/compare/85096-142986\n"
     ]
    },
    {
     "name": "stdout",
     "output_type": "stream",
     "text": [
      "product-160125 product-136598\nhttps://www.capterra.com/real-estate-property-management-software/compare/160125-136598\n"
     ]
    },
    {
     "name": "stdout",
     "output_type": "stream",
     "text": [
      "product-128385 product-143038\nhttps://www.capterra.com/real-estate-property-management-software/compare/128385-143038\n"
     ]
    },
    {
     "name": "stdout",
     "output_type": "stream",
     "text": [
      "product-89088 product-159303\nhttps://www.capterra.com/real-estate-property-management-software/compare/89088-159303\n"
     ]
    },
    {
     "name": "stdout",
     "output_type": "stream",
     "text": [
      "product-162831 product-164741\nhttps://www.capterra.com/real-estate-property-management-software/compare/162831-164741\n"
     ]
    }
   ],
   "source": [
    "# The code strategy:\n",
    "# The attributes from each product is easier to get from the comparison page from Capterra's website, therefore:\n",
    "#   Creation of an initial array with all product IDs;\n",
    "#   For each pair of product ID we request a new comparison page url, this becomes a loop;\n",
    "#   Attributes from comparison page is mapped and stored in temporary arrays;\n",
    "#   Final arrays are appended with information by pairs, coming from the comparison page;\n",
    "#   Loop of comparison is repeated until the last pair of ID in product ID array.\n",
    "\n",
    "# Opening empty lists to store info arrays \n",
    "\n",
    "IDs = []\n",
    "ProductName = []\n",
    "Company = []\n",
    "WhoUses_Description = []\n",
    "TargetCustomerSize = []\n",
    "OverallRating = []\n",
    "EaseOfUse = []\n",
    "CustomerService = []\n",
    "Features_Functionality = []\n",
    "ValueForMoney = []\n",
    "StartPrice = []\n",
    "FreeTrial = []\n",
    "Deployement = []\n",
    "Support = []\n",
    "Features = []\n",
    "Training = []\n",
    "URL = []\n",
    "\n",
    "# Main code\n",
    "\n",
    "# Changing index changes where the comparison starts on all_items array, with all product IDs\n",
    "# Note that index+=2 indicates the change of comparison pair\n",
    "index = 0 \n",
    "for item in all_items:\n",
    "    item1 = all_items[index]['id']\n",
    "    item2 = all_items[index+1]['id']\n",
    "    index += 2\n",
    "    \n",
    "    # If clause to not break all_items length\n",
    "    if index >= len(all_items):\n",
    "        break\n",
    "        \n",
    "    # Creation of url_compare to enter the comparison page\n",
    "    url_compare = 'https://www.capterra.com/real-estate-property-management-software/compare/' + \\\n",
    "              item1.replace('product-', '') + '-' + item2.replace('product-', '')\n",
    "    r = requests.get(url_compare)\n",
    "    html_doc = r.text\n",
    "    r.close()\n",
    "    soup_compare = BeautifulSoup(html_doc, \"html.parser\")    \n",
    "    \n",
    "    # Appending product IDs\n",
    "    IDs.extend([item1, item2])\n",
    "    \n",
    "    # Appending names of product list 0 and 1 for the items in soup_compare\n",
    "    ProductName.extend([soup_compare.findAll('div', {'class':'stack'})[1]\\\n",
    "    .findAll('a', {'onclick':\"ga('send', 'event', 'Product Compare', 'Product Name Click');\"})[0].text.strip(),\n",
    "                        soup_compare.findAll('div', {'class':'stack'})[1]\\\n",
    "    .findAll('a', {'onclick':\"ga('send', 'event', 'Product Compare', 'Product Name Click');\"})[1].text.strip()])\n",
    "        \n",
    "        \n",
    "    # Appending companies responsable for the product list 0 and 1 for the items in soup_compare\n",
    "    Company.extend([soup_compare.findAll('div', {'class':'stack'})[1]\\\n",
    "    .findAll('p', {'class':\"color-gray no-margin-bottom milli\"})[0].text.replace('by\\n', '').strip(),\n",
    "    soup_compare.findAll('div', {'class':'stack'})[1]\\\n",
    "    .findAll('p', {'class':\"color-gray no-margin-bottom milli\"})[1].text.replace('by\\n', '').strip()])\n",
    "\n",
    "    # Appending who uses this software list 1 and 2 for the items in soup_compare\n",
    "    WhoUses_Description.extend([soup_compare.findAll('div', {'class':'stack'})[2]\n",
    "                               .findAll('td', {'class':'cell-divider'})[1].text,\n",
    "                               soup_compare.findAll('div', {'class':'stack'})[2].\n",
    "                               findAll('td', {'class':'cell-divider'})[2].text]\n",
    "    )\n",
    "    \n",
    "    # Target Customer Size (Users) list 4 and 5 for the items in soup_compare\n",
    "    TargetCustomerSize.extend([soup_compare.findAll('div', {'class':'stack'})[2]\n",
    "                               .findAll('td', {'class':'cell-divider'})[4].text,\n",
    "                              soup_compare.findAll('div', {'class':'stack'})[2]\n",
    "                               .findAll('td', {'class':'cell-divider'})[5].text])\n",
    "    \n",
    "    # Pricing section from 0 to 8\n",
    "    # Used 1-2 (start price) and 4-5 (free trial)\n",
    "    StartPrice.extend([soup_compare.findAll('div', {'class':'stack'})[3]\n",
    "                       .findAll('td', {'class':'cell-divider'})[1].text.strip(),\n",
    "                       soup_compare.findAll('div', {'class':'stack'})[3]\n",
    "                       .findAll('td', {'class':'cell-divider'})[2].text.strip()])\n",
    "    FreeTrial.extend([soup_compare.findAll('div', {'class':'stack'})[3]\n",
    "                       .findAll('td', {'class':'cell-divider'})[4].text.strip(),\n",
    "                       soup_compare.findAll('div', {'class':'stack'})[3]\n",
    "                       .findAll('td', {'class':'cell-divider'})[5].text.strip()])\n",
    "    \n",
    "    # How to handle this exception? The code above is only used if there is a description\n",
    "    # If \"not provided by vendor\" the third findAll is not applicable!\n",
    "    a = soup_compare.findAll('div', {'class':'stack'})[4]\\\n",
    "    .findAll('td', {'class':'cell-divider'})[4]\n",
    "    b = soup_compare.findAll('div', {'class':'stack'})[4]\\\n",
    "    .findAll('td', {'class':'cell-divider'})[5]\n",
    "\n",
    "    if len(a.text.split()) != 4:\n",
    "        a_feature_list = []\n",
    "        for feature in a.select('li[class=ss-check]'):\n",
    "            a_feature_list.append(feature.text.strip())\n",
    "        \n",
    "        Features.append(a_feature_list)\n",
    "    \n",
    "    else:\n",
    "        Features.append(a.text.strip())\n",
    "            \n",
    "    if len(b.text.split()) != 4:\n",
    "        b_feature_list = []\n",
    "        for feature in b.select('li[class=ss-check]'):\n",
    "            b_feature_list.append(feature.text.strip())\n",
    "        \n",
    "        Features.append(b_feature_list)\n",
    "            \n",
    "    else:\n",
    "        Features.append(b.text.strip())\n",
    "            \n",
    "    # Appending Overall Ratings att 1 - 2 on last findAll\n",
    "    # Note that try and except clauses are used to handle missing ratings\n",
    "    try: \n",
    "        OverallRating.append(soup_compare.findAll('div', {'class':'stack'})[5]\n",
    "                          .findAll('td', {'class':'cell-divider'})[1].text.strip().split()[0])\n",
    "    except IndexError:\n",
    "        OverallRating.append(np.NaN)\n",
    "        \n",
    "    try:    \n",
    "        OverallRating.append(soup_compare.findAll('div', {'class':'stack'})[5]\n",
    "                          .findAll('td', {'class':'cell-divider'})[2].text.strip().split()[0])\n",
    "    except IndexError:\n",
    "        OverallRating.append(np.NaN)\n",
    "        \n",
    "    # Appending Ratings section Ease to Use att 4 - 5 on last findAll\n",
    "    # Note that try and except clauses are used to handle missing ratings\n",
    "    try:\n",
    "        EaseOfUse.append(soup_compare.findAll('div', {'class':'stack'})[5]\n",
    "                      .findAll('td', {'class':'cell-divider'})[4].text.strip().split()[0])\n",
    "    except IndexError:\n",
    "        EaseOfUse.append(np.NaN)\n",
    "        \n",
    "    try:\n",
    "        EaseOfUse.append(soup_compare.findAll('div', {'class':'stack'})[5]\n",
    "                      .findAll('td', {'class':'cell-divider'})[5].text.strip().split()[0])\n",
    "    except IndexError:\n",
    "        EaseOfUse.append(np.NaN)  \n",
    "    \n",
    "    # Appending Ratings section Customer Service att 7 - 8 on last findAll\n",
    "    # Note that try and except clauses are used to handle missing ratings\n",
    "    try:\n",
    "        CustomerService.append(soup_compare.findAll('div', {'class':'stack'})[5]\n",
    "                            .findAll('td', {'class':'cell-divider'})[7].text.strip().split()[0])\n",
    "    except IndexError:\n",
    "        CustomerService.append(np.NaN)\n",
    "        \n",
    "    try:    \n",
    "        CustomerService.append(soup_compare.findAll('div', {'class':'stack'})[5]\n",
    "                            .findAll('td', {'class':'cell-divider'})[8].text.strip().split()[0])\n",
    "    except IndexError:\n",
    "        CustomerService.append(np.NaN)\n",
    "    \n",
    "    # Appending Ratings section Features & Functionality att 10 - 11 on last findAll\n",
    "    # Note that try and except clauses are used to handle missing ratings\n",
    "    try:\n",
    "        Features_Functionality.append(soup_compare.findAll('div', {'class':'stack'})[5]\n",
    "                                   .findAll('td', {'class':'cell-divider'})[10].text.strip().split()[0])\n",
    "    except IndexError:\n",
    "         Features_Functionality.append(np.NaN)                         \n",
    "    \n",
    "    try:\n",
    "        Features_Functionality.append(soup_compare.findAll('div', {'class':'stack'})[5]\n",
    "                                   .findAll('td', {'class':'cell-divider'})[11].text.strip().split()[0])\n",
    "    except IndexError:\n",
    "         Features_Functionality.append(np.NaN)\n",
    "    \n",
    "    # Appending Ratings section ValueForMoney att 13 - 14 on last findAll\n",
    "    # Note that try and except clauses are used to handle missing ratings\n",
    "    \n",
    "    try: \n",
    "        ValueForMoney.append(soup_compare.findAll('div', {'class':'stack'})[5]\n",
    "                             .findAll('td', {'class':'cell-divider'})[13].text.strip().split()[0])\n",
    "    except IndexError:\n",
    "        ValueForMoney.append(np.NaN)\n",
    "    \n",
    "    try:\n",
    "        ValueForMoney.append(soup_compare.findAll('div', {'class':'stack'})[5]\n",
    "                             .findAll('td', {'class':'cell-divider'})[14].text.strip().split()[0])\n",
    "    except IndexError:\n",
    "        ValueForMoney.append(np.NaN) \n",
    "    \n",
    "    # Solution for feature disable, transform each item on list in string and check if 'feature-disable' in string\n",
    "    # From 1 - 2 \n",
    "    a_sup = soup_compare.findAll('div', {'class':'stack'})[6].findAll('td', {'class':'cell-divider'})[1].findAll('li')\n",
    "    a_sup_list = []\n",
    "    for entry in a_sup:\n",
    "        if 'feature-disable' not in str(entry):\n",
    "            a_sup_list.append(entry.text)\n",
    "    Support.append(a_sup_list)\n",
    "        \n",
    "    b_sup = soup_compare.findAll('div', {'class':'stack'})[6].findAll('td', {'class':'cell-divider'})[2].findAll('li')\n",
    "    b_sup_list = []\n",
    "    for entry in b_sup:\n",
    "        if 'feature-disable' not in str(entry):\n",
    "            b_sup_list.append(entry.text)\n",
    "    Support.append(b_sup_list)\n",
    "    \n",
    "    # Training section 4 - 5 \n",
    "    # Note the special solution of \"class=ss-check\\ \" due to a space after \"check\" \n",
    "    \n",
    "    trainings_a = soup_compare.findAll('div', {'class':'stack'})[6]\\\n",
    "    .findAll('td', {'class':'cell-divider'})[4].select(\"li[class=ss-check\\ ] \")\n",
    "    trainings_b = soup_compare.findAll('div', {'class':'stack'})[6]\\\n",
    "    .findAll('td', {'class':'cell-divider'})[5].select(\"li[class=ss-check\\ ] \")\n",
    "    training_list_a = []\n",
    "    training_list_b = []\n",
    "    \n",
    "    for training in trainings_a:\n",
    "        training_list_a.append(training.text)\n",
    "        \n",
    "    for training in trainings_b:\n",
    "        training_list_b.append(training.text)\n",
    "        \n",
    "    Training.extend([training_list_a, training_list_b])"
   ]
  },
  {
   "cell_type": "code",
   "execution_count": null,
   "metadata": {},
   "outputs": [],
   "source": [
    "# Adding the URL to df\n",
    "# This came as an extra task after the main code was done\n",
    "\n",
    "# the code strategy\n",
    "#   I noted that I could extract product's urls from the main front page that means no need to new requests\n",
    "\n",
    "# New array initialized to store scraped info\n",
    "# item.a['href'] was the pattern to get desider urls\n",
    "URL = []\n",
    "\n",
    "for item in all_items[0:206]:\n",
    "    URL.append('https://www.capterra.com/' + item.a['href'])"
   ]
  },
  {
   "cell_type": "code",
   "execution_count": 1131,
   "metadata": {
    "collapsed": false
   },
   "outputs": [],
   "source": [
    "# Dictionary done using the information arrays\n",
    "# Note the OrderedDict used here to keep column orders when parsing to Excel file\n",
    "df =OrderedDict({'ProductID':IDs,\n",
    "      'ProductName':ProductName,\n",
    "      'Product URL': URL,\n",
    "      'Company':Company,\n",
    "      'WhoUses_Description': WhoUses_Description,\n",
    "      'TargetCustomerSize' : TargetCustomerSize,\n",
    "      'StartPrice' : StartPrice,\n",
    "      'FreeTrial' : FreeTrial,\n",
    "      'Features' : Features,\n",
    "      'OverallRating':OverallRating,\n",
    "      'EaseOfUse':EaseOfUse,\n",
    "      'CustomerService':CustomerService,\n",
    "      'Features&Functionality' : Features_Functionality,\n",
    "      'ValueForMoney': ValueForMoney,\n",
    "      'Support':Support,\n",
    "      'Training': Training})\n",
    "\n",
    "df = pd.DataFrame.from_dict(df)\n",
    "\n",
    "# Saving in csv\n",
    "df.to_csv(str(soup.title.text) + '.csv', header=df.columns, sep=',', encoding='utf-8')\n",
    "\n",
    "#Saving in excel\n",
    "writer = pd.ExcelWriter((soup.title.text) + '.xlsx', engine='xlsxwriter')\n",
    "df.to_excel(writer, sheet_name='Sheet1')\n",
    "writer.save()"
   ]
  },
  {
   "cell_type": "markdown",
   "metadata": {},
   "source": []
  },
  {
   "cell_type": "code",
   "execution_count": 1044,
   "metadata": {},
   "outputs": [
    {
     "name": "stdout",
     "output_type": "stream",
     "text": [
      "ok\n"
     ]
    }
   ],
   "source": [
    "# Appending Ratings section Features & Functionality att 10 - 11 on last findAll\n",
    "#soup_compare.findAll('div', {'class':'stack'})[5].findAll('td', {'class':'cell-divider'})[10].text.strip().split()[0]\n",
    "#soup_compare.findAll('div', {'class':'stack'})[5].findAll('td', {'class':'cell-divider'})[11].text.strip().split()[0]\n",
    "    \n",
    "# Appending Ratings section ValueForMoney att 13 - 14 on last findAll\n",
    "\n",
    "try:\n",
    "    soup_compare.findAll('div', {'class':'stack'})[5].findAll('td', {'class':'cell-divider'})[13].text.strip().split()[0]\n",
    "except IndexError:\n",
    "    print('ok')\n",
    "#soup_compare.findAll('div', {'class':'stack'})[5].findAll('td', {'class':'cell-divider'})[14].text.strip().split()[0]"
   ]
  },
  {
   "cell_type": "code",
   "execution_count": 998,
   "metadata": {},
   "outputs": [
    {
     "data": {
      "text/plain": [
       "['product-167973', 'product-165852', 'product-38478', 'product-133029']"
      ]
     },
     "execution_count": 998,
     "metadata": {},
     "output_type": "execute_result"
    }
   ],
   "source": [
    "# For loop generating list of IDs: id_list\n",
    "\n",
    "id_list = []\n",
    "for product in all_items:\n",
    "    id_list.append(product['id'])\n",
    "    \n",
    "id_list[0:4]"
   ]
  },
  {
   "cell_type": "code",
   "execution_count": 767,
   "metadata": {},
   "outputs": [],
   "source": [
    "# Generating the url for compasion betwwen product on id_list\n",
    "\n",
    "url_compare = 'https://www.capterra.com/real-estate-property-management-software/compare/' + \\\n",
    "              id_list[2].replace('product-', '') + '-' + id_list[3].replace('product-', '')\n",
    "r = requests.get(url_compare)\n",
    "html_doc = r.text\n",
    "r.close()\n",
    "soup_compare = BeautifulSoup(html_doc, \"html.parser\")"
   ]
  },
  {
   "cell_type": "code",
   "execution_count": 763,
   "metadata": {},
   "outputs": [],
   "source": [
    "# Function that creates the right list with \n",
    "# Name of product, Product's company, Rating, Number of Ratings\n",
    "def string_transform(self):\n",
    "    new_string = self.text.replace('\\n', '').replace('Remove', '').replace('/', '').replace('by', '').split()\n",
    "    return new_string"
   ]
  },
  {
   "cell_type": "code",
   "execution_count": 821,
   "metadata": {
    "collapsed": false
   },
   "outputs": [],
   "source": [
    "#soup_compare.findAll('th', {'class':'cell-divider'})[1].text\n",
    "\n",
    "#print(string_transform(soup_compare.findAll('th', {'class':'cell-divider'})[1]))\n",
    "#print(string_transform(soup_compare.findAll('th', {'class':'cell-divider'})[2]))"
   ]
  },
  {
   "cell_type": "code",
   "execution_count": 839,
   "metadata": {},
   "outputs": [],
   "source": [
    "#soup_compare.findAll('th', {'class':'cell-divider'})[2].text.replace('\\n', '').replace('Remove', '')\\\n",
    "    #.replace('/', '').replace('by', '').strip()"
   ]
  },
  {
   "cell_type": "code",
   "execution_count": 842,
   "metadata": {
    "collapsed": false
   },
   "outputs": [
    {
     "data": {
      "text/plain": [
       "'LiveTour'"
      ]
     },
     "execution_count": 842,
     "metadata": {},
     "output_type": "execute_result"
    }
   ],
   "source": [
    "# Here I found the sintax of the blocks\n",
    "# The first findAll I run from block to block (i.e Best For - Pricing...)\n",
    "\n",
    "# Name of product list 0 and 1 for the items in soup_compare\n",
    "soup_compare.findAll('div', {'class':'stack'})[1]\\\n",
    "    .findAll('a', {'onclick':\"ga('send', 'event', 'Product Compare', 'Product Name Click');\"})[0].text.strip()"
   ]
  },
  {
   "cell_type": "code",
   "execution_count": 819,
   "metadata": {},
   "outputs": [
    {
     "data": {
      "text/plain": [
       "'TOPS Software'"
      ]
     },
     "execution_count": 819,
     "metadata": {},
     "output_type": "execute_result"
    }
   ],
   "source": [
    "# Here I found the sintax of the blocks\n",
    "# The first findAll I run from block to block (i.e Best For - Pricing...)\n",
    "\n",
    "# Company responsable for the product list 0 and 1 for the items in soup_compare\n",
    "soup_compare.findAll('div', {'class':'stack'})[1]\\\n",
    "    .findAll('p', {'class':\"color-gray no-margin-bottom milli\"})[1].text.replace('by\\n', '').strip()"
   ]
  },
  {
   "cell_type": "code",
   "execution_count": 846,
   "metadata": {},
   "outputs": [
    {
     "data": {
      "text/plain": [
       "'ShowingHero is a online software for Property Managers by Property Managers. We love to work with technology driven and forward thinking organizations who are looking to simplify the leasing process'"
      ]
     },
     "execution_count": 846,
     "metadata": {},
     "output_type": "execute_result"
    }
   ],
   "source": [
    "# Here I found the sintax of the blocks\n",
    "# The first findAll I run from block to block (i.e Best For - Pricing...)\n",
    "# The second findAll I run from cel to cell (i.e inside of 'Best For: Who Uses This Software? - Real state agents...)\n",
    "\n",
    "# Who uses this software list 1 and 2 for the items in soup_compare\n",
    "soup_compare.findAll('div', {'class':'stack'})[2].findAll('td', {'class':'cell-divider'})[2].text"
   ]
  },
  {
   "cell_type": "code",
   "execution_count": 390,
   "metadata": {},
   "outputs": [
    {
     "data": {
      "text/plain": [
       "'1 - 1000+'"
      ]
     },
     "execution_count": 390,
     "metadata": {},
     "output_type": "execute_result"
    }
   ],
   "source": [
    "# Target Customer Size (Users) list 4 and 5 for the items in soup_compare\n",
    "\n",
    "soup_compare.findAll('div', {'class':'stack'})[2].findAll('td', {'class':'cell-divider'})[4].text"
   ]
  },
  {
   "cell_type": "code",
   "execution_count": 858,
   "metadata": {},
   "outputs": [
    {
     "data": {
      "text/plain": [
       "'No'"
      ]
     },
     "execution_count": 858,
     "metadata": {},
     "output_type": "execute_result"
    }
   ],
   "source": [
    "# Pricing section from 0 to 8\n",
    "\n",
    "soup_compare.findAll('div', {'class':'stack'})[3].findAll('td', {'class':'cell-divider'})[8].text.strip()"
   ]
  },
  {
   "cell_type": "code",
   "execution_count": 889,
   "metadata": {},
   "outputs": [
    {
     "data": {
      "text/plain": [
       "'Not provided by vendor'"
      ]
     },
     "execution_count": 889,
     "metadata": {},
     "output_type": "execute_result"
    }
   ],
   "source": [
    "# Platform section\n",
    "\n",
    "#Works but not properly\n",
    "#soup_compare.findAll('div', {'class':'stack'})[4].findAll('td', {'class':'cell-divider'})[4].findAll('li', {'class':'ss-check'})\n",
    "\n",
    "# Further test\n",
    "# Works the same as the one below but worse coding\n",
    "#soup_compare.findAll('div', {'class':'stack'})[4].findAll('td', {'class':'cell-divider'})[4].findAll(lambda tag: tag.name ==\n",
    "                                                                                                #     'li' and tag.get('class')\n",
    "                                                                                                 #    == ['ss-check'])[0]\n",
    "                                                                                                \n",
    "# Works amazingly\n",
    "soup_compare.findAll('div', {'class':'stack'})[4].findAll('td', {'class':'cell-divider'})[5].text.strip()\n",
    "\n",
    "#[0].text.strip()"
   ]
  },
  {
   "cell_type": "code",
   "execution_count": 883,
   "metadata": {
    "collapsed": false
   },
   "outputs": [
    {
     "data": {
      "text/plain": [
       "'Residential Properties'"
      ]
     },
     "execution_count": 883,
     "metadata": {},
     "output_type": "execute_result"
    }
   ],
   "source": [
    "# How to handle this exception? The code above is only used if there is a description\n",
    "# If \"not provided by vendor\" the third findAll is not applicable!\n",
    "\n",
    "soup_compare.findAll('div', {'class':'stack'})[4].findAll('td', {'class':'cell-divider'})[4].select('li[class=ss-check]')[1]\\\n",
    "    .text.strip()"
   ]
  },
  {
   "cell_type": "code",
   "execution_count": 901,
   "metadata": {},
   "outputs": [
    {
     "data": {
      "text/plain": [
       "'4'"
      ]
     },
     "execution_count": 901,
     "metadata": {},
     "output_type": "execute_result"
    }
   ],
   "source": [
    "# Ratings section Ease to Use att 4 - 5 on last findAll\n",
    "\n",
    "soup_compare.findAll('div', {'class':'stack'})[5].findAll('td', {'class':'cell-divider'})[4].text.strip().split()[0]"
   ]
  },
  {
   "cell_type": "code",
   "execution_count": 479,
   "metadata": {},
   "outputs": [
    {
     "data": {
      "text/plain": [
       "'4'"
      ]
     },
     "execution_count": 479,
     "metadata": {},
     "output_type": "execute_result"
    }
   ],
   "source": [
    "# Ratings section Customer Service att 7 - 8 on last findAll\n",
    "\n",
    "soup_compare.findAll('div', {'class':'stack'})[5].findAll('td', {'class':'cell-divider'})[7].text.strip().split()[0]"
   ]
  },
  {
   "cell_type": "code",
   "execution_count": 480,
   "metadata": {},
   "outputs": [
    {
     "data": {
      "text/plain": [
       "'4'"
      ]
     },
     "execution_count": 480,
     "metadata": {},
     "output_type": "execute_result"
    }
   ],
   "source": [
    "# Ratings section Features & Functionality att 10 - 11 on last findAll\n",
    "\n",
    "soup_compare.findAll('div', {'class':'stack'})[5].findAll('td', {'class':'cell-divider'})[10].text.strip().split()[0]"
   ]
  },
  {
   "cell_type": "code",
   "execution_count": 481,
   "metadata": {},
   "outputs": [
    {
     "data": {
      "text/plain": [
       "'4.5'"
      ]
     },
     "execution_count": 481,
     "metadata": {},
     "output_type": "execute_result"
    }
   ],
   "source": [
    "# Ratings section Value for Money att 13 - 14 on last findAll\n",
    "\n",
    "soup_compare.findAll('div', {'class':'stack'})[5].findAll('td', {'class':'cell-divider'})[13].text.strip().split()[0]"
   ]
  },
  {
   "cell_type": "code",
   "execution_count": 551,
   "metadata": {},
   "outputs": [
    {
     "data": {
      "text/plain": [
       "[<li class=\"ss-user feature-disabled\">24/7 (Live Rep)</li>,\n <li class=\"ss-clock \">Business Hours</li>,\n <li class=\"ss-laptop \">Online</li>]"
      ]
     },
     "execution_count": 551,
     "metadata": {},
     "output_type": "execute_result"
    }
   ],
   "source": [
    "# Ratings section Customer Service att 7 - 8 on last findAll\n",
    "\n",
    "# Works with the feature disable problem\n",
    "soup_compare.findAll('div', {'class':'stack'})[6].findAll('td', {'class':'cell-divider'})[1].findAll('li')"
   ]
  },
  {
   "cell_type": "code",
   "execution_count": 920,
   "metadata": {
    "collapsed": false
   },
   "outputs": [
    {
     "name": "stdout",
     "output_type": "stream",
     "text": [
      "Business Hours\nOnline\n"
     ]
    }
   ],
   "source": [
    "# Solution for feature disable, tranform each item on list in string and check if 'feature-disable' in string\n",
    "# From 1 - 2 \n",
    "\n",
    "a = soup_compare.findAll('div', {'class':'stack'})[6].findAll('td', {'class':'cell-divider'})[1].findAll('li')\n",
    "for entry in a:\n",
    "    if 'feature-disable' in str(entry):\n",
    "        pass\n",
    "    else:\n",
    "        print(entry.text)\n",
    "            "
   ]
  },
  {
   "cell_type": "code",
   "execution_count": 979,
   "metadata": {
    "collapsed": false
   },
   "outputs": [
    {
     "data": {
      "text/plain": [
       "2"
      ]
     },
     "execution_count": 979,
     "metadata": {},
     "output_type": "execute_result"
    }
   ],
   "source": [
    "# Training section 4 - 5 \n",
    "# Note the special solution of \"class=ss-check\\ \" due to a space after \"check\" \n",
    "\n",
    "len(soup_compare.findAll('div', {'class':'stack'})[6].findAll('td', {'class':'cell-divider'})[4].select(\"li[class=ss-check\\ ] \"))"
   ]
  },
  {
   "cell_type": "code",
   "execution_count": null,
   "metadata": {},
   "outputs": [],
   "source": []
  }
 ],
 "metadata": {
  "kernelspec": {
   "display_name": "Python 2",
   "language": "python",
   "name": "python2"
  },
  "language_info": {
   "codemirror_mode": {
    "name": "ipython",
    "version": 2
   },
   "file_extension": ".py",
   "mimetype": "text/x-python",
   "name": "python",
   "nbconvert_exporter": "python",
   "pygments_lexer": "ipython2",
   "version": "2.7.6"
  }
 },
 "nbformat": 4,
 "nbformat_minor": 0
}
